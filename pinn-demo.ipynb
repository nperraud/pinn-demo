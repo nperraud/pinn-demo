{
 "cells": [
  {
   "attachments": {},
   "cell_type": "markdown",
   "metadata": {},
   "source": [
    "# Simple PINN demo\n",
    "\n",
    "This notebook demonstrates the use of the PINN class to solve a simple Partial Differential Equation (PDE). It has been largely inspired by the following [github repository](https://github.com/nanditadoloi/PINN)."
   ]
  },
  {
   "attachments": {},
   "cell_type": "markdown",
   "metadata": {},
   "source": [
    "### Problem Statement\n",
    "Let us consider the following PDE:\n",
    "$$ \\frac{\\partial u}{\\partial x} = 2\\frac{\\partial u}{\\partial t} + u $$\n",
    "with boundary condition: \n",
    "$$ u(x,0) = 6e^{-3x} $$\n",
    "\n",
    "The variables are:\n",
    "* $x,t$ for the input\n",
    "* $u$ for the output\n",
    "\n",
    "**Goal:** We are searching for $u(x,t)$ for all $x$ in range $[0,2]$ and $t$ in range $[0,1]$."
   ]
  },
  {
   "cell_type": "code",
   "execution_count": null,
   "metadata": {},
   "outputs": [],
   "source": [
    "%load_ext autoreload\n",
    "%autoreload 2\n",
    "%matplotlib inline"
   ]
  },
  {
   "cell_type": "code",
   "execution_count": null,
   "metadata": {},
   "outputs": [],
   "source": [
    "import numpy as np\n",
    "\n",
    "# Torch\n",
    "import torch\n",
    "import torch.nn as nn\n",
    "from torch.autograd import Variable\n",
    "# Pytorch Lightning\n",
    "import pytorch_lightning as pl\n",
    "\n",
    "\n",
    "# Plotting\n",
    "import matplotlib.pyplot as plt\n",
    "from matplotlib import cm\n",
    "from matplotlib.ticker import LinearLocator, FormatStrFormatter\n"
   ]
  },
  {
   "attachments": {},
   "cell_type": "markdown",
   "metadata": {},
   "source": [
    "### Analytical solution\n",
    "Solving the PDE analytically, we obtain the following solution:\n",
    "$$ u(x,t) = 6e^{-3x-2t} $$"
   ]
  },
  {
   "cell_type": "code",
   "execution_count": null,
   "metadata": {},
   "outputs": [],
   "source": [
    "\n",
    "\n",
    "x=np.arange(0,2,0.02)\n",
    "t=np.arange(0,1,0.02)\n",
    "X, T = np.meshgrid(x, t)\n",
    "\n",
    "#  u(x,t) = 6e^{-3x-2t} \n",
    "U = 6*np.exp(-3*X-2*T)\n",
    "\n",
    "plt.imshow(U, extent=[0, 2, 0, 1], origin='lower')\n",
    "plt.title('Exact')\n",
    "plt.xlabel('x')\n",
    "plt.ylabel('t')\n",
    "plt.colorbar(shrink=0.5, aspect=5)\n"
   ]
  },
  {
   "attachments": {},
   "cell_type": "markdown",
   "metadata": {},
   "source": [
    "### PINN solution using torch"
   ]
  },
  {
   "attachments": {},
   "cell_type": "markdown",
   "metadata": {},
   "source": [
    "We start by defining a MLP neural network with `tanh` activation function."
   ]
  },
  {
   "cell_type": "code",
   "execution_count": null,
   "metadata": {},
   "outputs": [],
   "source": [
    "\n",
    "class FCNet(nn.Module):\n",
    "    \"\"\"A fully connected feed forward neural network with tanh activation function.\n",
    "    \n",
    "    Parameters\n",
    "    ----------\n",
    "    input_dimension : int\n",
    "        Dimension of the input.\n",
    "    output_dimension : int\n",
    "        Dimension of the output.\n",
    "    n_hidden_layers : int\n",
    "        Number of hidden layers.\n",
    "    neurons : int\n",
    "        Number of neurons in each hidden layer.\n",
    "    \"\"\"\n",
    "\n",
    "    def __init__(self, input_dimension, output_dimension, n_hidden_layers, neurons):\n",
    "        super(FCNet, self).__init__()\n",
    "        self.input_dimension = input_dimension\n",
    "        self.output_dimension = output_dimension\n",
    "        self.neurons = neurons\n",
    "        self.n_hidden_layers = n_hidden_layers\n",
    "        self.activation = nn.Tanh()\n",
    "\n",
    "        self.input_layer = nn.Linear(self.input_dimension, self.neurons)\n",
    "        # print(self.n_hidden_layers)\n",
    "        self.hidden_layers = nn.ModuleList([nn.Linear(self.neurons, self.neurons) for _ in range(n_hidden_layers - 1)])\n",
    "        self.output_layer = nn.Linear(self.neurons, self.output_dimension)\n",
    "\n",
    "    def forward(self, x):\n",
    "        # performs the set of affine and non-linear transformations defining the network\n",
    "        x = self.activation(self.input_layer(x))\n",
    "        for _, l in enumerate(self.hidden_layers):\n",
    "            x = self.activation(l(x))\n",
    "        return self.output_layer(x)\n",
    "    \n",
    "# xavier initialization of network parameters\n",
    "def init_xavier(model):\n",
    "    \"\"\" Initializes the network parameters using xavier initialization.\n",
    "\n",
    "    To be used with an MLP network with tanh non-linearities\n",
    "\n",
    "    Parameters\n",
    "    ----------\n",
    "    model : torch.nn\n",
    "        Network to be initialized.\n",
    "    \n",
    "    \"\"\"\n",
    "    def init_weights(m):\n",
    "        if type(m) == nn.Linear and m.weight.requires_grad and m.bias.requires_grad:\n",
    "            g = nn.init.calculate_gain('tanh')\n",
    "            torch.nn.init.xavier_uniform_(m.weight, gain=g)\n",
    "            m.bias.data.fill_(0)\n",
    "\n",
    "    model.apply(init_weights)\n"
   ]
  },
  {
   "cell_type": "code",
   "execution_count": null,
   "metadata": {},
   "outputs": [],
   "source": [
    "n_hidden_layers = 3\n",
    "neurons = 128\n",
    "\n",
    "class PINNNet(nn.Module):\n",
    "    def __init__(self, n_hidden_layers, neurons) -> None:\n",
    "        super().__init__()\n",
    "        self.n_hidden_layers = n_hidden_layers\n",
    "        self.neurons = neurons\n",
    "        self.fcnet = FCNet(2, 1, n_hidden_layers, neurons)\n",
    "    def forward(self, x, t):\n",
    "        d = torch.cat((x, t), axis=-1)\n",
    "        return self.fcnet(d)\n",
    "    def init(self):\n",
    "        init_xavier(self)\n",
    "\n",
    "torch.manual_seed(1200)\n",
    "net = PINNNet(n_hidden_layers, neurons)\n",
    "net.init()"
   ]
  },
  {
   "attachments": {},
   "cell_type": "markdown",
   "metadata": {},
   "source": [
    "Let us define the different loss functions for the PINN class.\n",
    "We start with the PDE loss function:\n",
    "$$ err_{\\text{PDE}}(x,t) = \\frac{\\partial u}{\\partial x}(x,t) - 2\\frac{\\partial u}{\\partial t}(x,t) - u(x,t) $$\n"
   ]
  },
  {
   "cell_type": "code",
   "execution_count": null,
   "metadata": {},
   "outputs": [],
   "source": [
    "def pde_error(net, x, t):\n",
    "    \"\"\"Computes the PDE error for the given network at point x,t.\"\"\"\n",
    "    x = Variable(x, requires_grad = True)\n",
    "    t = Variable(t, requires_grad = True)\n",
    "    u = net(x,t)\n",
    "    ## Based on our f = du/dx - 2du/dt - u, we need du/dx and du/dt\n",
    "    u_x = torch.autograd.grad(u.sum(), x, create_graph=True)[0]\n",
    "    u_t = torch.autograd.grad(u.sum(), t, create_graph=True)[0]\n",
    "    pde = u_x - 2*u_t - u\n",
    "    return pde\n"
   ]
  },
  {
   "attachments": {},
   "cell_type": "markdown",
   "metadata": {},
   "source": [
    "Next we compute the error on the boundary conditions:\n",
    "$$ err_{\\text{BC}}(x,t) = u(x,0) - 6e^{-3x} $$"
   ]
  },
  {
   "cell_type": "code",
   "execution_count": null,
   "metadata": {},
   "outputs": [],
   "source": [
    "def boundary_error(net, n=512):\n",
    "    \"\"\"Computes the boundary error for the given network.\"\"\"\n",
    "\n",
    "    # BC tells us that for any x in range[0,2] and time=0, the value of u is given by 6e^(-3x)\n",
    "    # Take say n random numbers of x\n",
    "    x_bc = torch.rand(size=(n,1), requires_grad=False)*2\n",
    "    t_bc = torch.zeros((n,1), requires_grad=False)\n",
    "    # compute u based on BC. target u(x,0)=6e^(-3x)\n",
    "    u_bc = 6*torch.exp(-3*x_bc)\n",
    "    return net(x_bc,t_bc) - u_bc"
   ]
  },
  {
   "cell_type": "code",
   "execution_count": null,
   "metadata": {},
   "outputs": [],
   "source": [
    "class RandomBoundedDataset(torch.utils.data.Dataset):\n",
    "    def __init__(self, n = 1024,  boundx = [0,2], boundt = [0,1]):\n",
    "        self.boundx = torch.tensor(boundx)\n",
    "        self.boundt = torch.tensor(boundt)\n",
    "        self.n = n\n",
    "\n",
    "    def __getitem__(self, index):\n",
    "        d = torch.rand(size=(1,2), requires_grad=False)\n",
    "        x = d[:,:1] * (self.boundx[1] - self.boundx[0]) + self.boundx[0]\n",
    "        t = d[:,1:] * (self.boundt[1] - self.boundt[0]) + self.boundt[0]\n",
    "        y = torch.zeros((1,1), requires_grad=False)\n",
    "        return x,t, y\n",
    "    def __len__(self):\n",
    "        return self.n\n",
    "\n",
    "n = 256 * 512\n",
    "dataset = RandomBoundedDataset(n=n, boundx=[0,2], boundt=[0,1])\n"
   ]
  },
  {
   "cell_type": "code",
   "execution_count": null,
   "metadata": {},
   "outputs": [],
   "source": [
    "class PINN(pl.LightningModule):\n",
    "    def __init__(self, net):\n",
    "        super().__init__()\n",
    "        self.net = net\n",
    "        self.loss = nn.MSELoss()\n",
    "        self.save_hyperparameters()\n",
    "        \n",
    "    \n",
    "    def training_step(self, batch, batch_idx):\n",
    "        x,t,y =  batch\n",
    "\n",
    "        # compute the PDE loss\n",
    "        pde_error_ = pde_error(self.net, x, t)\n",
    "        pde_loss = self.loss(pde_error_, y)\n",
    "        self.log('pde_loss', pde_loss)\n",
    "\n",
    "        # compute the BC loss\n",
    "        boundary_error_ = boundary_error(self.net, n=len(x))\n",
    "        boundary_loss = self.loss(boundary_error_, y)\n",
    "        self.log('boundary_loss', boundary_loss)\n",
    "\n",
    "        # compute the total loss\n",
    "        loss = pde_loss + boundary_loss\n",
    "        self.log('loss', loss)\n",
    "        \n",
    "        return loss\n",
    "    \n",
    "    def configure_optimizers(self):\n",
    "        # This is probably not the best optimizer for this problem\n",
    "        # PINNs are usually trained with BGFS or LBFGS\n",
    "        optimizer = torch.optim.Adam(self.net.parameters(), lr=1e-3)\n",
    "        return optimizer"
   ]
  },
  {
   "cell_type": "code",
   "execution_count": null,
   "metadata": {},
   "outputs": [],
   "source": [
    "max_epochs = 10\n",
    "batch_size = 512\n",
    "train_loader = torch.utils.data.DataLoader(dataset, batch_size=batch_size)\n",
    "model = PINN(net)\n"
   ]
  },
  {
   "cell_type": "code",
   "execution_count": null,
   "metadata": {},
   "outputs": [],
   "source": [
    "trainer = pl.Trainer(max_epochs=max_epochs)\n",
    "trainer.fit(model=model, train_dataloaders=train_loader)"
   ]
  },
  {
   "cell_type": "code",
   "execution_count": null,
   "metadata": {},
   "outputs": [],
   "source": [
    "plt.figure(figsize=(12,4))\n",
    "plt.subplot(131)\n",
    "x=np.arange(0,2,0.02)\n",
    "t=np.arange(0,1,0.02)\n",
    "X, T = np.meshgrid(x, t)\n",
    "\n",
    "#  u(x,t) = 6e^{-3x-2t} \n",
    "U = 6*np.exp(-3*X-2*T)\n",
    "vmin = np.min(U)\n",
    "vmax = np.max(U)\n",
    "plt.imshow(U, extent=[0, 2, 0, 1], vmin=vmin, vmax=vmax, origin='lower')\n",
    "plt.title('Exact solution')\n",
    "plt.xlabel('x')\n",
    "plt.ylabel('t')\n",
    "plt.colorbar(shrink=0.5, aspect=5)\n",
    "\n",
    "pt_x = torch.from_numpy(np.expand_dims(X,2)).float()\n",
    "pt_t = torch.from_numpy(np.expand_dims(T,2)).float()\n",
    "pt_u = net(pt_x,pt_t)[:,:,0]\n",
    "U_pred = pt_u.data.cpu().numpy()\n",
    "\n",
    "plt.subplot(132)\n",
    "plt.imshow(U_pred, extent=[0, 2, 0, 1], vmin=vmin, vmax=vmax, origin='lower')\n",
    "plt.title('PINN prediction')\n",
    "plt.xlabel('x')\n",
    "plt.ylabel('t')\n",
    "plt.colorbar(shrink=0.5, aspect=5)\n",
    "\n",
    "plt.subplot(133)\n",
    "abs_error = np.abs(U_pred-U)\n",
    "plt.imshow(abs_error, extent=[0, 2, 0, 1], vmin=0, vmax=np.max(abs_error), origin='lower')\n",
    "plt.title('Absolute difference')\n",
    "plt.xlabel('x')\n",
    "plt.ylabel('t')\n",
    "plt.colorbar(shrink=0.5, aspect=5)\n",
    "\n",
    "plt.savefig('img/output.png', dpi=300)"
   ]
  },
  {
   "cell_type": "code",
   "execution_count": null,
   "metadata": {},
   "outputs": [],
   "source": [
    "fig, ax = plt.subplots(subplot_kw={\"projection\": \"3d\"})\n",
    "\n",
    "surf = ax.plot_surface(X,T,U, cmap=cm.coolwarm,linewidth=0, antialiased=False)\n",
    "             \n",
    "ax.zaxis.set_major_locator(LinearLocator(10))\n",
    "ax.zaxis.set_major_formatter(FormatStrFormatter('%.02f'))\n",
    "\n",
    "fig.colorbar(surf, shrink=0.5, aspect=5)"
   ]
  },
  {
   "cell_type": "code",
   "execution_count": null,
   "metadata": {},
   "outputs": [],
   "source": []
  }
 ],
 "metadata": {
  "kernelspec": {
   "display_name": "simple-pinn-torch-d2uHG7v--py3.10",
   "language": "python",
   "name": "python3"
  },
  "language_info": {
   "codemirror_mode": {
    "name": "ipython",
    "version": 3
   },
   "file_extension": ".py",
   "mimetype": "text/x-python",
   "name": "python",
   "nbconvert_exporter": "python",
   "pygments_lexer": "ipython3",
   "version": "3.10.6"
  },
  "orig_nbformat": 4
 },
 "nbformat": 4,
 "nbformat_minor": 2
}
